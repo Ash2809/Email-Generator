{
 "cells": [
  {
   "cell_type": "code",
   "execution_count": 2,
   "metadata": {},
   "outputs": [
    {
     "name": "stderr",
     "output_type": "stream",
     "text": [
      "c:\\a\\envs\\email\\lib\\site-packages\\tqdm\\auto.py:21: TqdmWarning: IProgress not found. Please update jupyter and ipywidgets. See https://ipywidgets.readthedocs.io/en/stable/user_install.html\n",
      "  from .autonotebook import tqdm as notebook_tqdm\n"
     ]
    }
   ],
   "source": [
    "import langchain\n",
    "from langchain_google_genai import ChatGoogleGenerativeAI\n",
    "from langchain.chains import LLMChain\n",
    "from langchain.prompts import PromptTemplate\n",
    "from dotenv import load_dotenv\n",
    "import os"
   ]
  },
  {
   "cell_type": "code",
   "execution_count": 3,
   "metadata": {},
   "outputs": [],
   "source": [
    "load_dotenv()\n",
    "GOOGLE_API_KEY = os.getenv(\"GOOGLE_API_KEY\")\n",
    "llm = ChatGoogleGenerativeAI(google_api_key = GOOGLE_API_KEY,model = \"gemini-pro\",temperature = 0.5)"
   ]
  },
  {
   "cell_type": "code",
   "execution_count": 4,
   "metadata": {},
   "outputs": [
    {
     "name": "stdout",
     "output_type": "stream",
     "text": [
      "I am Gemini, a large multi-modal model, trained by Google.\n"
     ]
    }
   ],
   "source": [
    "print(llm.invoke(\"Who are you\").content)"
   ]
  },
  {
   "cell_type": "code",
   "execution_count": 5,
   "metadata": {},
   "outputs": [],
   "source": [
    "template = \"\"\"You are an expert in writing an email.\n",
    "You have to write a grammatically correct email on \"{subject}\" and \n",
    "write this in a {tone} way in {words} words.receipient name is{rec_name},Sender name is {sen_name}\"\"\"\n",
    "\n",
    "prompt = PromptTemplate(template = template,input_variables=[\"reciepient\",\"tone\",\"words\",\"subject\",\"rec_name\",\"sen_name\"])"
   ]
  },
  {
   "cell_type": "code",
   "execution_count": 6,
   "metadata": {},
   "outputs": [],
   "source": [
    "prompt = prompt.format(subject = \"Unable to access LMS portal\",\n",
    "              tone = \"Professional\",\n",
    "              words = 100,\n",
    "              rec_name = \"admin\",\n",
    "              sen_name = \"Aashutosh Kumar\")"
   ]
  },
  {
   "cell_type": "code",
   "execution_count": 7,
   "metadata": {},
   "outputs": [
    {
     "name": "stdout",
     "output_type": "stream",
     "text": [
      "Subject: Unable to Access LMS Portal\n",
      "\n",
      "Dear Admin,\n",
      "\n",
      "I am writing to inform you that I am unable to access the Learning Management System (LMS) portal. When I try to log in, I receive an error message stating \"Invalid credentials.\"\n",
      "\n",
      "I have double-checked my username and password, and I am certain that they are correct. I have also tried clearing my browser cache and cookies, but the issue persists.\n",
      "\n",
      "I would appreciate it if you could investigate this matter and assist me in resolving it as soon as possible. I need access to the LMS portal for my coursework and professional development.\n",
      "\n",
      "Thank you for your attention to this matter.\n",
      "\n",
      "Sincerely,\n",
      "Aashutosh Kumar\n"
     ]
    }
   ],
   "source": [
    "response = llm.invoke(prompt).content\n",
    "print(response)"
   ]
  },
  {
   "cell_type": "code",
   "execution_count": 8,
   "metadata": {},
   "outputs": [
    {
     "name": "stdout",
     "output_type": "stream",
     "text": [
      "Email sent successfully\n"
     ]
    }
   ],
   "source": [
    "import smtplib, ssl\n",
    "\n",
    "load_dotenv()\n",
    "smtp_server = \"smtp.gmail.com\"\n",
    "port = 587 \n",
    "sender_email = \"aashutoshkumar2809@gmail.com\"\n",
    "password =  os.getenv(\"APP_PASS\") # First turn on 2 step Verfication & Use the app-specific password here\n",
    "\n",
    "context = ssl.create_default_context()\n",
    "\n",
    "try:\n",
    "    server = smtplib.SMTP(smtp_server, port)\n",
    "    server.starttls(context=context) \n",
    "    server.login(sender_email, password)\n",
    "    \n",
    "    # TODO: Send email here\n",
    "    recipient_email = \"akumar17@gitam.in\"\n",
    "    subject = \"Test Email\"\n",
    "    body = response\n",
    "\n",
    "    message = f\"Subject: {subject}\\n\\n{body}\"\n",
    "    \n",
    "    server.sendmail(sender_email, recipient_email, message)\n",
    "    print(\"Email sent successfully\")\n",
    "\n",
    "except Exception as e:\n",
    "    print(e)\n",
    "finally:\n",
    "    server.quit()\n"
   ]
  },
  {
   "cell_type": "code",
   "execution_count": null,
   "metadata": {},
   "outputs": [],
   "source": []
  }
 ],
 "metadata": {
  "kernelspec": {
   "display_name": "email",
   "language": "python",
   "name": "python3"
  },
  "language_info": {
   "codemirror_mode": {
    "name": "ipython",
    "version": 3
   },
   "file_extension": ".py",
   "mimetype": "text/x-python",
   "name": "python",
   "nbconvert_exporter": "python",
   "pygments_lexer": "ipython3",
   "version": "3.10.14"
  }
 },
 "nbformat": 4,
 "nbformat_minor": 2
}
